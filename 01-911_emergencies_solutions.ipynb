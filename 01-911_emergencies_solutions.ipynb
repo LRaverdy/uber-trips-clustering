{
 "cells": [
  {
   "cell_type": "markdown",
   "metadata": {
    "id": "Bpcft0jf-LP0"
   },
   "source": [
    "# 911 Emergencies \n",
    "\n",
    "A US-county would like to know what are the main cases they need to focus on to protect their citizens. They hired you to get that kind of recommandations. In addition they give you a map with all the 911 calls they received over the past years. "
   ]
  },
  {
   "cell_type": "markdown",
   "metadata": {
    "id": "wDsaU4yZ-LP5"
   },
   "source": [
    "1. Import common libraries (including plotly) "
   ]
  },
  {
   "cell_type": "code",
   "execution_count": 1,
   "metadata": {
    "id": "SiVEqbCD-LP6"
   },
   "outputs": [],
   "source": [
    "import pandas as pd \n",
    "import numpy as np \n",
    "\n",
    "from sklearn.preprocessing import  OneHotEncoder, StandardScaler\n",
    "from sklearn.compose import ColumnTransformer\n",
    "\n",
    "import plotly.express as px\n",
    "import plotly.io as pio\n",
    "pio.renderers.default = \"iframe_connected\""
   ]
  },
  {
   "cell_type": "markdown",
   "metadata": {
    "id": "x4lX5xvk-LP7"
   },
   "source": [
    "2. Import the dataset here 👉👉 <a href=\"https://full-stack-bigdata-datasets.s3.eu-west-3.amazonaws.com/Machine+Learning+non+Supervis%C3%A9/DBSCAN/Datasets/911.csv\" target=\"_blank\">911.csv</a>"
   ]
  },
  {
   "cell_type": "code",
   "execution_count": 2,
   "metadata": {
    "colab": {
     "base_uri": "https://localhost:8080/",
     "height": 337
    },
    "executionInfo": {
     "elapsed": 8273,
     "status": "ok",
     "timestamp": 1649942722480,
     "user": {
      "displayName": "ANIBA Soukaina",
      "userId": "09617285124443352498"
     },
     "user_tz": -120
    },
    "id": "W-T-u0zr-LP7",
    "outputId": "9d454e3e-b812-40be-a1b5-413ffaed19fd"
   },
   "outputs": [
    {
     "data": {
      "text/html": [
       "<div>\n",
       "<style scoped>\n",
       "    .dataframe tbody tr th:only-of-type {\n",
       "        vertical-align: middle;\n",
       "    }\n",
       "\n",
       "    .dataframe tbody tr th {\n",
       "        vertical-align: top;\n",
       "    }\n",
       "\n",
       "    .dataframe thead th {\n",
       "        text-align: right;\n",
       "    }\n",
       "</style>\n",
       "<table border=\"1\" class=\"dataframe\">\n",
       "  <thead>\n",
       "    <tr style=\"text-align: right;\">\n",
       "      <th></th>\n",
       "      <th>lat</th>\n",
       "      <th>lng</th>\n",
       "      <th>desc</th>\n",
       "      <th>zip</th>\n",
       "      <th>title</th>\n",
       "      <th>timeStamp</th>\n",
       "      <th>twp</th>\n",
       "      <th>addr</th>\n",
       "      <th>e</th>\n",
       "    </tr>\n",
       "  </thead>\n",
       "  <tbody>\n",
       "    <tr>\n",
       "      <th>0</th>\n",
       "      <td>40.297876</td>\n",
       "      <td>-75.581294</td>\n",
       "      <td>REINDEER CT &amp; DEAD END;  NEW HANOVER; Station ...</td>\n",
       "      <td>19525.0</td>\n",
       "      <td>EMS: BACK PAINS/INJURY</td>\n",
       "      <td>2015-12-10 17:10:52</td>\n",
       "      <td>NEW HANOVER</td>\n",
       "      <td>REINDEER CT &amp; DEAD END</td>\n",
       "      <td>1</td>\n",
       "    </tr>\n",
       "    <tr>\n",
       "      <th>1</th>\n",
       "      <td>40.258061</td>\n",
       "      <td>-75.264680</td>\n",
       "      <td>BRIAR PATH &amp; WHITEMARSH LN;  HATFIELD TOWNSHIP...</td>\n",
       "      <td>19446.0</td>\n",
       "      <td>EMS: DIABETIC EMERGENCY</td>\n",
       "      <td>2015-12-10 17:29:21</td>\n",
       "      <td>HATFIELD TOWNSHIP</td>\n",
       "      <td>BRIAR PATH &amp; WHITEMARSH LN</td>\n",
       "      <td>1</td>\n",
       "    </tr>\n",
       "    <tr>\n",
       "      <th>2</th>\n",
       "      <td>40.121182</td>\n",
       "      <td>-75.351975</td>\n",
       "      <td>HAWS AVE; NORRISTOWN; 2015-12-10 @ 14:39:21-St...</td>\n",
       "      <td>19401.0</td>\n",
       "      <td>Fire: GAS-ODOR/LEAK</td>\n",
       "      <td>2015-12-10 14:39:21</td>\n",
       "      <td>NORRISTOWN</td>\n",
       "      <td>HAWS AVE</td>\n",
       "      <td>1</td>\n",
       "    </tr>\n",
       "    <tr>\n",
       "      <th>3</th>\n",
       "      <td>40.116153</td>\n",
       "      <td>-75.343513</td>\n",
       "      <td>AIRY ST &amp; SWEDE ST;  NORRISTOWN; Station 308A;...</td>\n",
       "      <td>19401.0</td>\n",
       "      <td>EMS: CARDIAC EMERGENCY</td>\n",
       "      <td>2015-12-10 16:47:36</td>\n",
       "      <td>NORRISTOWN</td>\n",
       "      <td>AIRY ST &amp; SWEDE ST</td>\n",
       "      <td>1</td>\n",
       "    </tr>\n",
       "    <tr>\n",
       "      <th>4</th>\n",
       "      <td>40.251492</td>\n",
       "      <td>-75.603350</td>\n",
       "      <td>CHERRYWOOD CT &amp; DEAD END;  LOWER POTTSGROVE; S...</td>\n",
       "      <td>NaN</td>\n",
       "      <td>EMS: DIZZINESS</td>\n",
       "      <td>2015-12-10 16:56:52</td>\n",
       "      <td>LOWER POTTSGROVE</td>\n",
       "      <td>CHERRYWOOD CT &amp; DEAD END</td>\n",
       "      <td>1</td>\n",
       "    </tr>\n",
       "  </tbody>\n",
       "</table>\n",
       "</div>"
      ],
      "text/plain": [
       "         lat        lng                                               desc  \\\n",
       "0  40.297876 -75.581294  REINDEER CT & DEAD END;  NEW HANOVER; Station ...   \n",
       "1  40.258061 -75.264680  BRIAR PATH & WHITEMARSH LN;  HATFIELD TOWNSHIP...   \n",
       "2  40.121182 -75.351975  HAWS AVE; NORRISTOWN; 2015-12-10 @ 14:39:21-St...   \n",
       "3  40.116153 -75.343513  AIRY ST & SWEDE ST;  NORRISTOWN; Station 308A;...   \n",
       "4  40.251492 -75.603350  CHERRYWOOD CT & DEAD END;  LOWER POTTSGROVE; S...   \n",
       "\n",
       "       zip                    title            timeStamp                twp  \\\n",
       "0  19525.0   EMS: BACK PAINS/INJURY  2015-12-10 17:10:52        NEW HANOVER   \n",
       "1  19446.0  EMS: DIABETIC EMERGENCY  2015-12-10 17:29:21  HATFIELD TOWNSHIP   \n",
       "2  19401.0      Fire: GAS-ODOR/LEAK  2015-12-10 14:39:21         NORRISTOWN   \n",
       "3  19401.0   EMS: CARDIAC EMERGENCY  2015-12-10 16:47:36         NORRISTOWN   \n",
       "4      NaN           EMS: DIZZINESS  2015-12-10 16:56:52   LOWER POTTSGROVE   \n",
       "\n",
       "                         addr  e  \n",
       "0      REINDEER CT & DEAD END  1  \n",
       "1  BRIAR PATH & WHITEMARSH LN  1  \n",
       "2                    HAWS AVE  1  \n",
       "3          AIRY ST & SWEDE ST  1  \n",
       "4    CHERRYWOOD CT & DEAD END  1  "
      ]
     },
     "execution_count": 2,
     "metadata": {},
     "output_type": "execute_result"
    }
   ],
   "source": [
    "data = pd.read_csv(\"https://full-stack-bigdata-datasets.s3.eu-west-3.amazonaws.com/Machine+Learning+non+Supervis%C3%A9/DBSCAN/Datasets/911.csv\")\n",
    "data.head()"
   ]
  },
  {
   "cell_type": "markdown",
   "metadata": {
    "id": "sv30QtuI-LP8"
   },
   "source": [
    "3. The dataset is quite big, take a sample of 10 000 observations"
   ]
  },
  {
   "cell_type": "code",
   "execution_count": 3,
   "metadata": {
    "colab": {
     "base_uri": "https://localhost:8080/",
     "height": 337
    },
    "executionInfo": {
     "elapsed": 6,
     "status": "ok",
     "timestamp": 1649942722480,
     "user": {
      "displayName": "ANIBA Soukaina",
      "userId": "09617285124443352498"
     },
     "user_tz": -120
    },
    "id": "KsZOR7sf-LP8",
    "outputId": "50886f7f-e413-47cf-8bf9-aec6d8e7e875"
   },
   "outputs": [
    {
     "data": {
      "text/html": [
       "<div>\n",
       "<style scoped>\n",
       "    .dataframe tbody tr th:only-of-type {\n",
       "        vertical-align: middle;\n",
       "    }\n",
       "\n",
       "    .dataframe tbody tr th {\n",
       "        vertical-align: top;\n",
       "    }\n",
       "\n",
       "    .dataframe thead th {\n",
       "        text-align: right;\n",
       "    }\n",
       "</style>\n",
       "<table border=\"1\" class=\"dataframe\">\n",
       "  <thead>\n",
       "    <tr style=\"text-align: right;\">\n",
       "      <th></th>\n",
       "      <th>lat</th>\n",
       "      <th>lng</th>\n",
       "      <th>desc</th>\n",
       "      <th>zip</th>\n",
       "      <th>title</th>\n",
       "      <th>timeStamp</th>\n",
       "      <th>twp</th>\n",
       "      <th>addr</th>\n",
       "      <th>e</th>\n",
       "    </tr>\n",
       "  </thead>\n",
       "  <tbody>\n",
       "    <tr>\n",
       "      <th>557588</th>\n",
       "      <td>40.235141</td>\n",
       "      <td>-75.224847</td>\n",
       "      <td>STUMP RD;  MONTGOMERY; Station 345A; 2019-10-1...</td>\n",
       "      <td>NaN</td>\n",
       "      <td>EMS: VEHICLE ACCIDENT</td>\n",
       "      <td>2019-10-12 11:34:28</td>\n",
       "      <td>MONTGOMERY</td>\n",
       "      <td>STUMP RD</td>\n",
       "      <td>1</td>\n",
       "    </tr>\n",
       "    <tr>\n",
       "      <th>349097</th>\n",
       "      <td>40.229362</td>\n",
       "      <td>-75.274025</td>\n",
       "      <td>OAKLAND AVE &amp; LAUREL LN;  LANSDALE; Station 34...</td>\n",
       "      <td>19446.0</td>\n",
       "      <td>EMS: FALL VICTIM</td>\n",
       "      <td>2018-05-20 10:02:34</td>\n",
       "      <td>LANSDALE</td>\n",
       "      <td>OAKLAND AVE &amp; LAUREL LN</td>\n",
       "      <td>1</td>\n",
       "    </tr>\n",
       "    <tr>\n",
       "      <th>104595</th>\n",
       "      <td>40.155362</td>\n",
       "      <td>-75.301960</td>\n",
       "      <td>DEKALB PIKE &amp; YOST RD;  WHITPAIN; Station 385;...</td>\n",
       "      <td>19422.0</td>\n",
       "      <td>EMS: ALTERED MENTAL STATUS</td>\n",
       "      <td>2016-09-08 11:51:23</td>\n",
       "      <td>WHITPAIN</td>\n",
       "      <td>DEKALB PIKE &amp; YOST RD</td>\n",
       "      <td>1</td>\n",
       "    </tr>\n",
       "    <tr>\n",
       "      <th>648672</th>\n",
       "      <td>40.024967</td>\n",
       "      <td>-75.282905</td>\n",
       "      <td>ROSEMONT AVE &amp; DEAD END;  LOWER MERION; Statio...</td>\n",
       "      <td>NaN</td>\n",
       "      <td>EMS: DIABETIC EMERGENCY</td>\n",
       "      <td>2020-06-16 23:16:35</td>\n",
       "      <td>LOWER MERION</td>\n",
       "      <td>ROSEMONT AVE &amp; DEAD END</td>\n",
       "      <td>1</td>\n",
       "    </tr>\n",
       "    <tr>\n",
       "      <th>404047</th>\n",
       "      <td>40.274137</td>\n",
       "      <td>-75.660469</td>\n",
       "      <td>UPLAND SQUARE DR &amp; SELL RD;  WEST POTTSGROVE; ...</td>\n",
       "      <td>19464.0</td>\n",
       "      <td>EMS: FALL VICTIM</td>\n",
       "      <td>2018-10-03 16:32:33</td>\n",
       "      <td>WEST POTTSGROVE</td>\n",
       "      <td>UPLAND SQUARE DR &amp; SELL RD</td>\n",
       "      <td>1</td>\n",
       "    </tr>\n",
       "  </tbody>\n",
       "</table>\n",
       "</div>"
      ],
      "text/plain": [
       "              lat        lng  \\\n",
       "557588  40.235141 -75.224847   \n",
       "349097  40.229362 -75.274025   \n",
       "104595  40.155362 -75.301960   \n",
       "648672  40.024967 -75.282905   \n",
       "404047  40.274137 -75.660469   \n",
       "\n",
       "                                                     desc      zip  \\\n",
       "557588  STUMP RD;  MONTGOMERY; Station 345A; 2019-10-1...      NaN   \n",
       "349097  OAKLAND AVE & LAUREL LN;  LANSDALE; Station 34...  19446.0   \n",
       "104595  DEKALB PIKE & YOST RD;  WHITPAIN; Station 385;...  19422.0   \n",
       "648672  ROSEMONT AVE & DEAD END;  LOWER MERION; Statio...      NaN   \n",
       "404047  UPLAND SQUARE DR & SELL RD;  WEST POTTSGROVE; ...  19464.0   \n",
       "\n",
       "                             title            timeStamp              twp  \\\n",
       "557588       EMS: VEHICLE ACCIDENT  2019-10-12 11:34:28       MONTGOMERY   \n",
       "349097            EMS: FALL VICTIM  2018-05-20 10:02:34         LANSDALE   \n",
       "104595  EMS: ALTERED MENTAL STATUS  2016-09-08 11:51:23         WHITPAIN   \n",
       "648672     EMS: DIABETIC EMERGENCY  2020-06-16 23:16:35     LOWER MERION   \n",
       "404047            EMS: FALL VICTIM  2018-10-03 16:32:33  WEST POTTSGROVE   \n",
       "\n",
       "                              addr  e  \n",
       "557588                    STUMP RD  1  \n",
       "349097     OAKLAND AVE & LAUREL LN  1  \n",
       "104595       DEKALB PIKE & YOST RD  1  \n",
       "648672     ROSEMONT AVE & DEAD END  1  \n",
       "404047  UPLAND SQUARE DR & SELL RD  1  "
      ]
     },
     "execution_count": 3,
     "metadata": {},
     "output_type": "execute_result"
    }
   ],
   "source": [
    "data_sample = data.sample(10000)\n",
    "data_sample.head()"
   ]
  },
  {
   "cell_type": "markdown",
   "metadata": {
    "id": "cLnkLCjS-LP9"
   },
   "source": [
    "5. Using plotly scatter mapbox, visualize your data points on a map. You should also differentiate colors depending on `title`"
   ]
  },
  {
   "cell_type": "code",
   "execution_count": 4,
   "metadata": {
    "colab": {
     "base_uri": "https://localhost:8080/",
     "height": 566
    },
    "executionInfo": {
     "elapsed": 405,
     "status": "ok",
     "timestamp": 1649942722881,
     "user": {
      "displayName": "ANIBA Soukaina",
      "userId": "09617285124443352498"
     },
     "user_tz": -120
    },
    "id": "85WqxGwq-LP9",
    "outputId": "383b80c0-c990-4b84-8866-180eccd8045c"
   },
   "outputs": [
    {
     "data": {
      "text/html": [
       "<iframe\n",
       "    scrolling=\"no\"\n",
       "    width=\"100%\"\n",
       "    height=\"545px\"\n",
       "    src=\"iframe_figures/figure_4.html\"\n",
       "    frameborder=\"0\"\n",
       "    allowfullscreen\n",
       "></iframe>\n"
      ]
     },
     "metadata": {},
     "output_type": "display_data"
    }
   ],
   "source": [
    "fig = px.scatter_mapbox(\n",
    "        data_sample, \n",
    "        lat=\"lat\", \n",
    "        lon=\"lng\",\n",
    "        color=\"title\",\n",
    "        mapbox_style=\"carto-positron\"\n",
    ")\n",
    "\n",
    "fig.show()"
   ]
  },
  {
   "cell_type": "markdown",
   "metadata": {
    "id": "I_Z3yzUD-LP-"
   },
   "source": [
    "6. The dataset is quite big, let's try to use DBSCAN to help us out. First, create a variable `X` that only includes `lat`, `lng` and `title` columns."
   ]
  },
  {
   "cell_type": "code",
   "execution_count": 12,
   "metadata": {
    "colab": {
     "base_uri": "https://localhost:8080/",
     "height": 206
    },
    "executionInfo": {
     "elapsed": 10,
     "status": "ok",
     "timestamp": 1649942722882,
     "user": {
      "displayName": "ANIBA Soukaina",
      "userId": "09617285124443352498"
     },
     "user_tz": -120
    },
    "id": "1uarPqcY-LP-",
    "outputId": "792ff5a6-e0aa-4162-e61f-920ff68439e7"
   },
   "outputs": [
    {
     "data": {
      "text/html": [
       "<div>\n",
       "<style scoped>\n",
       "    .dataframe tbody tr th:only-of-type {\n",
       "        vertical-align: middle;\n",
       "    }\n",
       "\n",
       "    .dataframe tbody tr th {\n",
       "        vertical-align: top;\n",
       "    }\n",
       "\n",
       "    .dataframe thead th {\n",
       "        text-align: right;\n",
       "    }\n",
       "</style>\n",
       "<table border=\"1\" class=\"dataframe\">\n",
       "  <thead>\n",
       "    <tr style=\"text-align: right;\">\n",
       "      <th></th>\n",
       "      <th>lat</th>\n",
       "      <th>lng</th>\n",
       "      <th>title</th>\n",
       "    </tr>\n",
       "  </thead>\n",
       "  <tbody>\n",
       "    <tr>\n",
       "      <th>557588</th>\n",
       "      <td>40.235141</td>\n",
       "      <td>-75.224847</td>\n",
       "      <td>EMS: VEHICLE ACCIDENT</td>\n",
       "    </tr>\n",
       "    <tr>\n",
       "      <th>349097</th>\n",
       "      <td>40.229362</td>\n",
       "      <td>-75.274025</td>\n",
       "      <td>EMS: FALL VICTIM</td>\n",
       "    </tr>\n",
       "    <tr>\n",
       "      <th>104595</th>\n",
       "      <td>40.155362</td>\n",
       "      <td>-75.301960</td>\n",
       "      <td>EMS: ALTERED MENTAL STATUS</td>\n",
       "    </tr>\n",
       "    <tr>\n",
       "      <th>648672</th>\n",
       "      <td>40.024967</td>\n",
       "      <td>-75.282905</td>\n",
       "      <td>EMS: DIABETIC EMERGENCY</td>\n",
       "    </tr>\n",
       "    <tr>\n",
       "      <th>404047</th>\n",
       "      <td>40.274137</td>\n",
       "      <td>-75.660469</td>\n",
       "      <td>EMS: FALL VICTIM</td>\n",
       "    </tr>\n",
       "  </tbody>\n",
       "</table>\n",
       "</div>"
      ],
      "text/plain": [
       "              lat        lng                       title\n",
       "557588  40.235141 -75.224847       EMS: VEHICLE ACCIDENT\n",
       "349097  40.229362 -75.274025            EMS: FALL VICTIM\n",
       "104595  40.155362 -75.301960  EMS: ALTERED MENTAL STATUS\n",
       "648672  40.024967 -75.282905     EMS: DIABETIC EMERGENCY\n",
       "404047  40.274137 -75.660469            EMS: FALL VICTIM"
      ]
     },
     "execution_count": 12,
     "metadata": {},
     "output_type": "execute_result"
    }
   ],
   "source": [
    "data_sample = data_sample.loc[:, [\"lat\", \"lng\", \"title\"]]\n",
    "data_sample.head()"
   ]
  },
  {
   "cell_type": "markdown",
   "metadata": {
    "id": "S3vd-LdR-LP-"
   },
   "source": [
    "7. Create dummy variables column `title`."
   ]
  },
  {
   "cell_type": "code",
   "execution_count": 13,
   "metadata": {
    "colab": {
     "base_uri": "https://localhost:8080/"
    },
    "executionInfo": {
     "elapsed": 9,
     "status": "ok",
     "timestamp": 1649942722883,
     "user": {
      "displayName": "ANIBA Soukaina",
      "userId": "09617285124443352498"
     },
     "user_tz": -120
    },
    "id": "4Ch1caTq-LP-",
    "outputId": "557741aa-adb8-474c-9209-a98115e420b7"
   },
   "outputs": [
    {
     "name": "stdout",
     "output_type": "stream",
     "text": [
      "Preprocessing sur le train set...\n",
      "              lat        lng                       title\n",
      "557588  40.235141 -75.224847       EMS: VEHICLE ACCIDENT\n",
      "349097  40.229362 -75.274025            EMS: FALL VICTIM\n",
      "104595  40.155362 -75.301960  EMS: ALTERED MENTAL STATUS\n",
      "648672  40.024967 -75.282905     EMS: DIABETIC EMERGENCY\n",
      "404047  40.274137 -75.660469            EMS: FALL VICTIM\n",
      "...Terminé.\n",
      "  (0, 0)\t0.4005301586942308\n",
      "  (0, 1)\t0.04554618819250998\n",
      "  (0, 55)\t1.0\n",
      "  (1, 0)\t0.3704042592327946\n",
      "  (1, 1)\t0.015551998121577768\n",
      "  (1, 23)\t1.0\n",
      "  (2, 0)\t-0.015372303014613526\n",
      "  (2, 1)\t-0.0014859275203084365\n",
      "  (2, 3)\t1.0\n",
      "  (3, 0)\t-0.6951453848746587\n",
      "  (3, 1)\t0.01013633472639139\n",
      "  (3, 17)\t1.0\n",
      "  (4, 0)\t0.6038252417145258\n",
      "  (4, 1)\t-0.2201449991145194\n",
      "  (4, 23)\t1.0\n",
      "\n"
     ]
    }
   ],
   "source": [
    "numeric_features = [0, 1] # Positions des colonnes quantitatives dans X\n",
    "numeric_transformer = StandardScaler()\n",
    "\n",
    "# Création du transformer pour les variables catégorielles\n",
    "categorical_features = [2] # Positions des colonnes catégorielles dans X\n",
    "categorical_transformer = OneHotEncoder(drop='first')\n",
    "\n",
    "# On combine les transformers dans un ColumnTransformer\n",
    "preprocessor = ColumnTransformer(\n",
    "    transformers=[\n",
    "        ('num', numeric_transformer, numeric_features),\n",
    "        ('cat', categorical_transformer, categorical_features)\n",
    "    ])\n",
    "\n",
    "# Preprocessings sur le dataset\n",
    "print(\"Preprocessing sur le train set...\")\n",
    "print(data_sample.head())\n",
    "X = preprocessor.fit_transform(data_sample) # fit_transform !!\n",
    "print('...Terminé.')\n",
    "print(X[0:5, :])\n",
    "print()"
   ]
  },
  {
   "cell_type": "code",
   "execution_count": 14,
   "metadata": {
    "colab": {
     "base_uri": "https://localhost:8080/"
    },
    "executionInfo": {
     "elapsed": 2837,
     "status": "ok",
     "timestamp": 1649942725714,
     "user": {
      "displayName": "ANIBA Soukaina",
      "userId": "09617285124443352498"
     },
     "user_tz": -120
    },
    "id": "ZJXFRMaW-LP_",
    "outputId": "377359af-6f1d-402c-96b2-2cff326597d1"
   },
   "outputs": [
    {
     "data": {
      "text/plain": [
       "DBSCAN(eps=0.2, metric='manhattan', min_samples=100)"
      ]
     },
     "execution_count": 14,
     "metadata": {},
     "output_type": "execute_result"
    }
   ],
   "source": [
    "from sklearn.cluster import DBSCAN\n",
    "\n",
    "db = DBSCAN(eps=0.2, min_samples=100, metric=\"manhattan\")\n",
    "\n",
    "db.fit(X)"
   ]
  },
  {
   "cell_type": "markdown",
   "metadata": {
    "id": "uFcWytfS-LP_"
   },
   "source": [
    "9. Find out how many clusters DBSCAN created. "
   ]
  },
  {
   "cell_type": "code",
   "execution_count": 15,
   "metadata": {
    "colab": {
     "base_uri": "https://localhost:8080/"
    },
    "executionInfo": {
     "elapsed": 7,
     "status": "ok",
     "timestamp": 1649942725714,
     "user": {
      "displayName": "ANIBA Soukaina",
      "userId": "09617285124443352498"
     },
     "user_tz": -120
    },
    "id": "Awebym5o-LP_",
    "outputId": "fc999fb6-3b3e-4db4-f902-af4a1b2c1e0f"
   },
   "outputs": [
    {
     "data": {
      "text/plain": [
       "array([-1,  0,  1,  2,  3,  4,  5,  6,  7,  8,  9], dtype=int64)"
      ]
     },
     "execution_count": 15,
     "metadata": {},
     "output_type": "execute_result"
    }
   ],
   "source": [
    "np.unique(db.labels_)"
   ]
  },
  {
   "cell_type": "markdown",
   "metadata": {
    "id": "x4crcp2Q-LQA"
   },
   "source": [
    "10. Add a new column `\"cluster\"` to `data_sample` where each observations are going to be the label of the corresponding cluster."
   ]
  },
  {
   "cell_type": "code",
   "execution_count": 16,
   "metadata": {
    "colab": {
     "base_uri": "https://localhost:8080/",
     "height": 206
    },
    "executionInfo": {
     "elapsed": 5,
     "status": "ok",
     "timestamp": 1649942725715,
     "user": {
      "displayName": "ANIBA Soukaina",
      "userId": "09617285124443352498"
     },
     "user_tz": -120
    },
    "id": "E3D_0Qf3-LQA",
    "outputId": "f388d5aa-7410-44c9-ae3d-d1f5267d1c07"
   },
   "outputs": [
    {
     "data": {
      "text/html": [
       "<div>\n",
       "<style scoped>\n",
       "    .dataframe tbody tr th:only-of-type {\n",
       "        vertical-align: middle;\n",
       "    }\n",
       "\n",
       "    .dataframe tbody tr th {\n",
       "        vertical-align: top;\n",
       "    }\n",
       "\n",
       "    .dataframe thead th {\n",
       "        text-align: right;\n",
       "    }\n",
       "</style>\n",
       "<table border=\"1\" class=\"dataframe\">\n",
       "  <thead>\n",
       "    <tr style=\"text-align: right;\">\n",
       "      <th></th>\n",
       "      <th>lat</th>\n",
       "      <th>lng</th>\n",
       "      <th>title</th>\n",
       "      <th>cluster</th>\n",
       "    </tr>\n",
       "  </thead>\n",
       "  <tbody>\n",
       "    <tr>\n",
       "      <th>557588</th>\n",
       "      <td>40.235141</td>\n",
       "      <td>-75.224847</td>\n",
       "      <td>EMS: VEHICLE ACCIDENT</td>\n",
       "      <td>-1</td>\n",
       "    </tr>\n",
       "    <tr>\n",
       "      <th>349097</th>\n",
       "      <td>40.229362</td>\n",
       "      <td>-75.274025</td>\n",
       "      <td>EMS: FALL VICTIM</td>\n",
       "      <td>-1</td>\n",
       "    </tr>\n",
       "    <tr>\n",
       "      <th>104595</th>\n",
       "      <td>40.155362</td>\n",
       "      <td>-75.301960</td>\n",
       "      <td>EMS: ALTERED MENTAL STATUS</td>\n",
       "      <td>-1</td>\n",
       "    </tr>\n",
       "    <tr>\n",
       "      <th>648672</th>\n",
       "      <td>40.024967</td>\n",
       "      <td>-75.282905</td>\n",
       "      <td>EMS: DIABETIC EMERGENCY</td>\n",
       "      <td>-1</td>\n",
       "    </tr>\n",
       "    <tr>\n",
       "      <th>404047</th>\n",
       "      <td>40.274137</td>\n",
       "      <td>-75.660469</td>\n",
       "      <td>EMS: FALL VICTIM</td>\n",
       "      <td>-1</td>\n",
       "    </tr>\n",
       "  </tbody>\n",
       "</table>\n",
       "</div>"
      ],
      "text/plain": [
       "              lat        lng                       title  cluster\n",
       "557588  40.235141 -75.224847       EMS: VEHICLE ACCIDENT       -1\n",
       "349097  40.229362 -75.274025            EMS: FALL VICTIM       -1\n",
       "104595  40.155362 -75.301960  EMS: ALTERED MENTAL STATUS       -1\n",
       "648672  40.024967 -75.282905     EMS: DIABETIC EMERGENCY       -1\n",
       "404047  40.274137 -75.660469            EMS: FALL VICTIM       -1"
      ]
     },
     "execution_count": 16,
     "metadata": {},
     "output_type": "execute_result"
    }
   ],
   "source": [
    "data_sample[\"cluster\"] = db.labels_\n",
    "data_sample.head()"
   ]
  },
  {
   "cell_type": "markdown",
   "metadata": {
    "id": "nexFwCZv-LQA"
   },
   "source": [
    "11. Visualize all the clusters on a map except all the ones that DBSCAN considered as outliers."
   ]
  },
  {
   "cell_type": "code",
   "execution_count": 17,
   "metadata": {
    "colab": {
     "base_uri": "https://localhost:8080/",
     "height": 566
    },
    "executionInfo": {
     "elapsed": 330,
     "status": "ok",
     "timestamp": 1649942726041,
     "user": {
      "displayName": "ANIBA Soukaina",
      "userId": "09617285124443352498"
     },
     "user_tz": -120
    },
    "id": "ZVfxEVuC-LQA",
    "outputId": "2a4da071-0e06-4549-c4a3-fbd1150484e6"
   },
   "outputs": [
    {
     "data": {
      "text/html": [
       "<iframe\n",
       "    scrolling=\"no\"\n",
       "    width=\"100%\"\n",
       "    height=\"545px\"\n",
       "    src=\"iframe_figures/figure_17.html\"\n",
       "    frameborder=\"0\"\n",
       "    allowfullscreen\n",
       "></iframe>\n"
      ]
     },
     "metadata": {},
     "output_type": "display_data"
    }
   ],
   "source": [
    "fig = px.scatter_mapbox(\n",
    "        data_sample[data_sample.cluster != -1], \n",
    "        lat=\"lat\", \n",
    "        lon=\"lng\",\n",
    "        color=\"cluster\",\n",
    "        mapbox_style=\"carto-positron\"\n",
    ")\n",
    "\n",
    "fig.show()"
   ]
  },
  {
   "cell_type": "markdown",
   "metadata": {
    "id": "MJqfbvxb-LQA"
   },
   "source": [
    "12. Visualize all data points on a map except outliers using plotly. You should have different colors per `title`. \n",
    "\n",
    "13. What would then be your recommandations for this US county politicians? "
   ]
  },
  {
   "cell_type": "code",
   "execution_count": 18,
   "metadata": {
    "colab": {
     "base_uri": "https://localhost:8080/",
     "height": 566
    },
    "executionInfo": {
     "elapsed": 6,
     "status": "ok",
     "timestamp": 1649942726041,
     "user": {
      "displayName": "ANIBA Soukaina",
      "userId": "09617285124443352498"
     },
     "user_tz": -120
    },
    "id": "UBtMpj1T-LQB",
    "outputId": "e0ab10d0-fc36-466d-80d1-42023869cd99"
   },
   "outputs": [
    {
     "data": {
      "text/html": [
       "<iframe\n",
       "    scrolling=\"no\"\n",
       "    width=\"100%\"\n",
       "    height=\"545px\"\n",
       "    src=\"iframe_figures/figure_18.html\"\n",
       "    frameborder=\"0\"\n",
       "    allowfullscreen\n",
       "></iframe>\n"
      ]
     },
     "metadata": {},
     "output_type": "display_data"
    }
   ],
   "source": [
    "px.scatter_mapbox(\n",
    "    data_sample.loc[data_sample.cluster != -1, :],\n",
    "    lat=\"lat\",\n",
    "    lon=\"lng\",\n",
    "    color=\"title\",\n",
    "    mapbox_style=\"carto-positron\"\n",
    ")"
   ]
  },
  {
   "cell_type": "markdown",
   "metadata": {
    "id": "ULvaveoT-LQB"
   },
   "source": [
    "**The map shows the main topics to focus on and the main areas where this events occur. Therefore these are the areas that politics should focus on.** "
   ]
  }
 ],
 "metadata": {
  "colab": {
   "name": "01-911_emergencies_solutions.ipynb",
   "provenance": []
  },
  "kernelspec": {
   "display_name": "Python 3 (ipykernel)",
   "language": "python",
   "name": "python3"
  },
  "language_info": {
   "codemirror_mode": {
    "name": "ipython",
    "version": 3
   },
   "file_extension": ".py",
   "mimetype": "text/x-python",
   "name": "python",
   "nbconvert_exporter": "python",
   "pygments_lexer": "ipython3",
   "version": "3.9.7"
  }
 },
 "nbformat": 4,
 "nbformat_minor": 4
}
